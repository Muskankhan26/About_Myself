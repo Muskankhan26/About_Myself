{
  "nbformat": 4,
  "nbformat_minor": 0,
  "metadata": {
    "colab": {
      "provenance": [],
      "authorship_tag": "ABX9TyNu9twHJV4YnjBert9vno/6",
      "include_colab_link": true
    },
    "kernelspec": {
      "name": "python3",
      "display_name": "Python 3"
    },
    "language_info": {
      "name": "python"
    }
  },
  "cells": [
    {
      "cell_type": "markdown",
      "metadata": {
        "id": "view-in-github",
        "colab_type": "text"
      },
      "source": [
        "<a href=\"https://colab.research.google.com/github/Muskankhan26/Muskankhan26/blob/main/CJ_snippets_ipy.ipynb\" target=\"_parent\"><img src=\"https://colab.research.google.com/assets/colab-badge.svg\" alt=\"Open In Colab\"/></a>"
      ]
    },
    {
      "cell_type": "code",
      "execution_count": 1,
      "metadata": {
        "colab": {
          "base_uri": "https://localhost:8080/"
        },
        "id": "2eNTg6Os-dYF",
        "outputId": "9dccd289-caab-4415-c941-6fd81e1dd8b6"
      },
      "outputs": [
        {
          "output_type": "stream",
          "name": "stdout",
          "text": [
            "enter your name:Muskan\n",
            "Hello, Muskan Welcome to Python World\n"
          ]
        }
      ],
      "source": [
        "name = input(\"enter your name:\")\n",
        "print(\"Hello,\",name,\"Welcome to Python World\")"
      ]
    }
  ]
}